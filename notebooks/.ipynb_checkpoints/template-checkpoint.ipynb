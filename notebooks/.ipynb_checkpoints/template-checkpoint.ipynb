{
 "cells": [
  {
   "cell_type": "code",
   "execution_count": 1,
   "id": "d55ed719-1b54-4aab-8367-527a5abd85c0",
   "metadata": {},
   "outputs": [],
   "source": [
    "import pandas as pd \n",
    "import numpy as np\n",
    "import matplotlib.pyplot as plt\n",
    "import plotly.express as px\n",
    "from sklearn.ensemble import RandomForestClassifier\n",
    "from sklearn.model_selection import train_test_split\n",
    "import seaborn as sns\n",
    "\n",
    "random_state = 42\n",
    "test_size = 0.2\n",
    "\n",
    "df = pd.read_csv('../data/processed/cleaned_heart_attack.csv', sep=',')\n",
    "columns = df.columns.to_numpy()\n",
    "df.iloc[:10, 10:20]\n",
    "target  = \"Heart Attack Risk\""
   ]
  },
  {
   "cell_type": "code",
   "execution_count": 2,
   "id": "058030cc-8e45-4f16-a3f7-72491aa28b3f",
   "metadata": {},
   "outputs": [],
   "source": [
    "x = df.drop(target, axis = 1)\n",
    "y = df[target]\n",
    "x_train, x_test, y_train, y_test = train_test_split(x, y, test_size = test_size, random_state = 42)\n"
   ]
  },
  {
   "cell_type": "code",
   "execution_count": null,
   "id": "b493b6a6-5143-4c10-b4c7-bb5b6c66ad65",
   "metadata": {},
   "outputs": [],
   "source": []
  }
 ],
 "metadata": {
  "kernelspec": {
   "display_name": "Python 3 (ipykernel)",
   "language": "python",
   "name": "python3"
  },
  "language_info": {
   "codemirror_mode": {
    "name": "ipython",
    "version": 3
   },
   "file_extension": ".py",
   "mimetype": "text/x-python",
   "name": "python",
   "nbconvert_exporter": "python",
   "pygments_lexer": "ipython3",
   "version": "3.12.3"
  }
 },
 "nbformat": 4,
 "nbformat_minor": 5
}
