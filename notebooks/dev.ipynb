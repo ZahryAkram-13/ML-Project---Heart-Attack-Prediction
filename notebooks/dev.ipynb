{
 "cells": [
  {
   "cell_type": "code",
   "execution_count": 2,
   "id": "038aea77-241e-423e-846b-d832f9c06bce",
   "metadata": {
    "scrolled": true
   },
   "outputs": [
    {
     "data": {
      "text/plain": [
       "array(['Age', 'Cholesterol', 'Heart Rate', 'Diabetes', 'Family History',\n",
       "       'Smoking', 'Obesity', 'Alcohol Consumption',\n",
       "       'Exercise Hours Per Week', 'Previous Heart Problems',\n",
       "       'Medication Use', 'Stress Level', 'Sedentary Hours Per Day',\n",
       "       'Income', 'BMI', 'Triglycerides',\n",
       "       'Physical Activity Days Per Week', 'Sleep Hours Per Day',\n",
       "       'Heart Attack Risk', 'Binary_sex', 'Systolic', 'Diastolic',\n",
       "       'Encoded_diet', 'Country_Argentina', 'Country_Australia',\n",
       "       'Country_Brazil', 'Country_Canada', 'Country_China',\n",
       "       'Country_Colombia', 'Country_France', 'Country_Germany',\n",
       "       'Country_India', 'Country_Italy', 'Country_Japan',\n",
       "       'Country_New Zealand', 'Country_Nigeria', 'Country_South Africa',\n",
       "       'Country_South Korea', 'Country_Spain', 'Country_Thailand',\n",
       "       'Country_United Kingdom', 'Country_United States',\n",
       "       'Country_Vietnam', 'Continent_Africa', 'Continent_Asia',\n",
       "       'Continent_Australia', 'Continent_Europe',\n",
       "       'Continent_North America', 'Continent_South America',\n",
       "       'Hemisphere_Northern ', 'Hemisphere_Southern '], dtype=object)"
      ]
     },
     "execution_count": 2,
     "metadata": {},
     "output_type": "execute_result"
    }
   ],
   "source": [
    "import pandas as pd \n",
    "import numpy as np\n",
    "import matplotlib.pyplot as plt\n",
    "\n",
    "random_state = 42\n",
    "\n",
    "df = pd.read_csv('data/cleaned_heart_attack.csv', sep=',')\n",
    "columns = df.columns.to_numpy()\n"
   ]
  },
  {
   "cell_type": "code",
   "execution_count": null,
   "id": "78f72e7c-2ca2-494d-a53a-1742480db5ba",
   "metadata": {},
   "outputs": [],
   "source": []
  }
 ],
 "metadata": {
  "kernelspec": {
   "display_name": "Python 3 (ipykernel)",
   "language": "python",
   "name": "python3"
  },
  "language_info": {
   "codemirror_mode": {
    "name": "ipython",
    "version": 3
   },
   "file_extension": ".py",
   "mimetype": "text/x-python",
   "name": "python",
   "nbconvert_exporter": "python",
   "pygments_lexer": "ipython3",
   "version": "3.12.3"
  }
 },
 "nbformat": 4,
 "nbformat_minor": 5
}
